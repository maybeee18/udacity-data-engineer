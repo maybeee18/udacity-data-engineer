{
 "metadata": {
  "language_info": {
   "codemirror_mode": {
    "name": "ipython",
    "version": 3
   },
   "file_extension": ".py",
   "mimetype": "text/x-python",
   "name": "python",
   "nbconvert_exporter": "python",
   "pygments_lexer": "ipython3",
   "version": "3.6.9-final"
  },
  "orig_nbformat": 2,
  "kernelspec": {
   "name": "python_defaultSpec_1601310268664",
   "display_name": "Python 3.6.9 64-bit"
  }
 },
 "nbformat": 4,
 "nbformat_minor": 2,
 "cells": [
  {
   "cell_type": "code",
   "execution_count": 1,
   "metadata": {},
   "outputs": [],
   "source": [
    "import pandas as pd\n",
    "import numpy  as np"
   ]
  },
  {
   "source": [
    "## Preparing metadata for measurements"
   ],
   "cell_type": "markdown",
   "metadata": {}
  },
  {
   "cell_type": "code",
   "execution_count": 2,
   "metadata": {
    "tags": []
   },
   "outputs": [
    {
     "output_type": "stream",
     "name": "stdout",
     "text": "<class 'pandas.core.frame.DataFrame'>\nRangeIndex: 29775 entries, 0 to 29774\nData columns (total 11 columns):\n #   Column        Non-Null Count  Dtype  \n---  ------        --------------  -----  \n 0   USAF          29775 non-null  object \n 1   WBAN          29775 non-null  int64  \n 2   STATION NAME  28986 non-null  object \n 3   CTRY          28838 non-null  object \n 4   STATE         6743 non-null   object \n 5   ICAO          10891 non-null  object \n 6   LAT           28571 non-null  float64\n 7   LON           28570 non-null  float64\n 8   ELEV(M)       28477 non-null  float64\n 9   BEGIN         29775 non-null  int64  \n 10  END           29775 non-null  int64  \ndtypes: float64(3), int64(3), object(5)\nmemory usage: 2.5+ MB\n"
    }
   ],
   "source": [
    "# prepare isd-history metadata\n",
    "metadata = pd.read_csv(\"../data/isd-history.csv\")\n",
    "metadata.info()"
   ]
  },
  {
   "cell_type": "code",
   "execution_count": 3,
   "metadata": {},
   "outputs": [
    {
     "output_type": "execute_result",
     "data": {
      "text/plain": "     USAF   WBAN STATION NAME CTRY STATE ICAO    LAT     LON  ELEV(M)  \\\n0  007018  99999   WXPOD 7018  NaN   NaN  NaN   0.00   0.000   7018.0   \n1  007026  99999   WXPOD 7026   AF   NaN  NaN   0.00   0.000   7026.0   \n2  007070  99999   WXPOD 7070   AF   NaN  NaN   0.00   0.000   7070.0   \n3  008260  99999    WXPOD8270  NaN   NaN  NaN   0.00   0.000      0.0   \n4  008268  99999    WXPOD8278   AF   NaN  NaN  32.95  65.567   1156.7   \n\n      BEGIN       END  \n0  20110309  20130730  \n1  20120713  20170822  \n2  20140923  20150926  \n3  19960101  20100731  \n4  20100519  20120323  ",
      "text/html": "<div>\n<style scoped>\n    .dataframe tbody tr th:only-of-type {\n        vertical-align: middle;\n    }\n\n    .dataframe tbody tr th {\n        vertical-align: top;\n    }\n\n    .dataframe thead th {\n        text-align: right;\n    }\n</style>\n<table border=\"1\" class=\"dataframe\">\n  <thead>\n    <tr style=\"text-align: right;\">\n      <th></th>\n      <th>USAF</th>\n      <th>WBAN</th>\n      <th>STATION NAME</th>\n      <th>CTRY</th>\n      <th>STATE</th>\n      <th>ICAO</th>\n      <th>LAT</th>\n      <th>LON</th>\n      <th>ELEV(M)</th>\n      <th>BEGIN</th>\n      <th>END</th>\n    </tr>\n  </thead>\n  <tbody>\n    <tr>\n      <th>0</th>\n      <td>007018</td>\n      <td>99999</td>\n      <td>WXPOD 7018</td>\n      <td>NaN</td>\n      <td>NaN</td>\n      <td>NaN</td>\n      <td>0.00</td>\n      <td>0.000</td>\n      <td>7018.0</td>\n      <td>20110309</td>\n      <td>20130730</td>\n    </tr>\n    <tr>\n      <th>1</th>\n      <td>007026</td>\n      <td>99999</td>\n      <td>WXPOD 7026</td>\n      <td>AF</td>\n      <td>NaN</td>\n      <td>NaN</td>\n      <td>0.00</td>\n      <td>0.000</td>\n      <td>7026.0</td>\n      <td>20120713</td>\n      <td>20170822</td>\n    </tr>\n    <tr>\n      <th>2</th>\n      <td>007070</td>\n      <td>99999</td>\n      <td>WXPOD 7070</td>\n      <td>AF</td>\n      <td>NaN</td>\n      <td>NaN</td>\n      <td>0.00</td>\n      <td>0.000</td>\n      <td>7070.0</td>\n      <td>20140923</td>\n      <td>20150926</td>\n    </tr>\n    <tr>\n      <th>3</th>\n      <td>008260</td>\n      <td>99999</td>\n      <td>WXPOD8270</td>\n      <td>NaN</td>\n      <td>NaN</td>\n      <td>NaN</td>\n      <td>0.00</td>\n      <td>0.000</td>\n      <td>0.0</td>\n      <td>19960101</td>\n      <td>20100731</td>\n    </tr>\n    <tr>\n      <th>4</th>\n      <td>008268</td>\n      <td>99999</td>\n      <td>WXPOD8278</td>\n      <td>AF</td>\n      <td>NaN</td>\n      <td>NaN</td>\n      <td>32.95</td>\n      <td>65.567</td>\n      <td>1156.7</td>\n      <td>20100519</td>\n      <td>20120323</td>\n    </tr>\n  </tbody>\n</table>\n</div>"
     },
     "metadata": {},
     "execution_count": 3
    }
   ],
   "source": [
    "# let's look first few examples \n",
    "metadata.head()"
   ]
  },
  {
   "cell_type": "code",
   "execution_count": 4,
   "metadata": {},
   "outputs": [
    {
     "output_type": "execute_result",
     "data": {
      "text/plain": "      stn   wban ctry station_name\n0  007018  99999  NaN   WXPOD 7018\n1  007026  99999   AF   WXPOD 7026\n2  007070  99999   AF   WXPOD 7070\n3  008260  99999  NaN    WXPOD8270\n4  008268  99999   AF    WXPOD8278",
      "text/html": "<div>\n<style scoped>\n    .dataframe tbody tr th:only-of-type {\n        vertical-align: middle;\n    }\n\n    .dataframe tbody tr th {\n        vertical-align: top;\n    }\n\n    .dataframe thead th {\n        text-align: right;\n    }\n</style>\n<table border=\"1\" class=\"dataframe\">\n  <thead>\n    <tr style=\"text-align: right;\">\n      <th></th>\n      <th>stn</th>\n      <th>wban</th>\n      <th>ctry</th>\n      <th>station_name</th>\n    </tr>\n  </thead>\n  <tbody>\n    <tr>\n      <th>0</th>\n      <td>007018</td>\n      <td>99999</td>\n      <td>NaN</td>\n      <td>WXPOD 7018</td>\n    </tr>\n    <tr>\n      <th>1</th>\n      <td>007026</td>\n      <td>99999</td>\n      <td>AF</td>\n      <td>WXPOD 7026</td>\n    </tr>\n    <tr>\n      <th>2</th>\n      <td>007070</td>\n      <td>99999</td>\n      <td>AF</td>\n      <td>WXPOD 7070</td>\n    </tr>\n    <tr>\n      <th>3</th>\n      <td>008260</td>\n      <td>99999</td>\n      <td>NaN</td>\n      <td>WXPOD8270</td>\n    </tr>\n    <tr>\n      <th>4</th>\n      <td>008268</td>\n      <td>99999</td>\n      <td>AF</td>\n      <td>WXPOD8278</td>\n    </tr>\n  </tbody>\n</table>\n</div>"
     },
     "metadata": {},
     "execution_count": 4
    }
   ],
   "source": [
    "# selecting required columns\n",
    "metadata = metadata[[\"USAF\", \"WBAN\", \"CTRY\", \"STATION NAME\"]]\n",
    "metadata.rename(columns = {'USAF':'stn', 'WBAN': 'wban', 'CTRY': 'ctry', 'STATION NAME':'station_name'}, inplace=True) \n",
    "\n",
    "metadata.head()\n"
   ]
  },
  {
   "cell_type": "code",
   "execution_count": 5,
   "metadata": {},
   "outputs": [
    {
     "output_type": "execute_result",
     "data": {
      "text/plain": "       stn   wban ctry  station_name\n1   007026  99999   AF    WXPOD 7026\n2   007070  99999   AF    WXPOD 7070\n4   008268  99999   AF     WXPOD8278\n5   008307  99999   AF    WXPOD 8318\n10  010000  99999   NO  BOGUS NORWAY",
      "text/html": "<div>\n<style scoped>\n    .dataframe tbody tr th:only-of-type {\n        vertical-align: middle;\n    }\n\n    .dataframe tbody tr th {\n        vertical-align: top;\n    }\n\n    .dataframe thead th {\n        text-align: right;\n    }\n</style>\n<table border=\"1\" class=\"dataframe\">\n  <thead>\n    <tr style=\"text-align: right;\">\n      <th></th>\n      <th>stn</th>\n      <th>wban</th>\n      <th>ctry</th>\n      <th>station_name</th>\n    </tr>\n  </thead>\n  <tbody>\n    <tr>\n      <th>1</th>\n      <td>007026</td>\n      <td>99999</td>\n      <td>AF</td>\n      <td>WXPOD 7026</td>\n    </tr>\n    <tr>\n      <th>2</th>\n      <td>007070</td>\n      <td>99999</td>\n      <td>AF</td>\n      <td>WXPOD 7070</td>\n    </tr>\n    <tr>\n      <th>4</th>\n      <td>008268</td>\n      <td>99999</td>\n      <td>AF</td>\n      <td>WXPOD8278</td>\n    </tr>\n    <tr>\n      <th>5</th>\n      <td>008307</td>\n      <td>99999</td>\n      <td>AF</td>\n      <td>WXPOD 8318</td>\n    </tr>\n    <tr>\n      <th>10</th>\n      <td>010000</td>\n      <td>99999</td>\n      <td>NO</td>\n      <td>BOGUS NORWAY</td>\n    </tr>\n  </tbody>\n</table>\n</div>"
     },
     "metadata": {},
     "execution_count": 5
    }
   ],
   "source": [
    "# to make sure we always have mapping country and station name\n",
    "metadata.dropna(subset=[\"ctry\", \"station_name\"], inplace=True)\n",
    "\n",
    "metadata.head()"
   ]
  },
  {
   "cell_type": "code",
   "execution_count": 6,
   "metadata": {},
   "outputs": [
    {
     "output_type": "execute_result",
     "data": {
      "text/plain": "       stn  wban ctry  station_name\n1   007026   NaN   AF    WXPOD 7026\n2   007070   NaN   AF    WXPOD 7070\n4   008268   NaN   AF     WXPOD8278\n5   008307   NaN   AF    WXPOD 8318\n10  010000   NaN   NO  BOGUS NORWAY",
      "text/html": "<div>\n<style scoped>\n    .dataframe tbody tr th:only-of-type {\n        vertical-align: middle;\n    }\n\n    .dataframe tbody tr th {\n        vertical-align: top;\n    }\n\n    .dataframe thead th {\n        text-align: right;\n    }\n</style>\n<table border=\"1\" class=\"dataframe\">\n  <thead>\n    <tr style=\"text-align: right;\">\n      <th></th>\n      <th>stn</th>\n      <th>wban</th>\n      <th>ctry</th>\n      <th>station_name</th>\n    </tr>\n  </thead>\n  <tbody>\n    <tr>\n      <th>1</th>\n      <td>007026</td>\n      <td>NaN</td>\n      <td>AF</td>\n      <td>WXPOD 7026</td>\n    </tr>\n    <tr>\n      <th>2</th>\n      <td>007070</td>\n      <td>NaN</td>\n      <td>AF</td>\n      <td>WXPOD 7070</td>\n    </tr>\n    <tr>\n      <th>4</th>\n      <td>008268</td>\n      <td>NaN</td>\n      <td>AF</td>\n      <td>WXPOD8278</td>\n    </tr>\n    <tr>\n      <th>5</th>\n      <td>008307</td>\n      <td>NaN</td>\n      <td>AF</td>\n      <td>WXPOD 8318</td>\n    </tr>\n    <tr>\n      <th>10</th>\n      <td>010000</td>\n      <td>NaN</td>\n      <td>NO</td>\n      <td>BOGUS NORWAY</td>\n    </tr>\n  </tbody>\n</table>\n</div>"
     },
     "metadata": {},
     "execution_count": 6
    }
   ],
   "source": [
    "# replacing missing values with np.nan\n",
    "metadata.replace([99999, \"999999\"], np.nan, inplace=True)\n",
    "\n",
    "metadata.head()"
   ]
  },
  {
   "cell_type": "code",
   "execution_count": 7,
   "metadata": {},
   "outputs": [
    {
     "output_type": "execute_result",
     "data": {
      "text/plain": "       stn  wban ctry  station_name\n1   007026   NaN   AF    WXPOD 7026\n2   007070   NaN   AF    WXPOD 7070\n4   008268   NaN   AF     WXPOD8278\n5   008307   NaN   AF    WXPOD 8318\n10  010000   NaN   NO  BOGUS NORWAY",
      "text/html": "<div>\n<style scoped>\n    .dataframe tbody tr th:only-of-type {\n        vertical-align: middle;\n    }\n\n    .dataframe tbody tr th {\n        vertical-align: top;\n    }\n\n    .dataframe thead th {\n        text-align: right;\n    }\n</style>\n<table border=\"1\" class=\"dataframe\">\n  <thead>\n    <tr style=\"text-align: right;\">\n      <th></th>\n      <th>stn</th>\n      <th>wban</th>\n      <th>ctry</th>\n      <th>station_name</th>\n    </tr>\n  </thead>\n  <tbody>\n    <tr>\n      <th>1</th>\n      <td>007026</td>\n      <td>NaN</td>\n      <td>AF</td>\n      <td>WXPOD 7026</td>\n    </tr>\n    <tr>\n      <th>2</th>\n      <td>007070</td>\n      <td>NaN</td>\n      <td>AF</td>\n      <td>WXPOD 7070</td>\n    </tr>\n    <tr>\n      <th>4</th>\n      <td>008268</td>\n      <td>NaN</td>\n      <td>AF</td>\n      <td>WXPOD8278</td>\n    </tr>\n    <tr>\n      <th>5</th>\n      <td>008307</td>\n      <td>NaN</td>\n      <td>AF</td>\n      <td>WXPOD 8318</td>\n    </tr>\n    <tr>\n      <th>10</th>\n      <td>010000</td>\n      <td>NaN</td>\n      <td>NO</td>\n      <td>BOGUS NORWAY</td>\n    </tr>\n  </tbody>\n</table>\n</div>"
     },
     "metadata": {},
     "execution_count": 7
    }
   ],
   "source": [
    "# we need wban or stn available always to link metadata to actual measurements\n",
    "metadata = metadata[~(metadata.stn.isin([np.nan]) & metadata.wban.isin([np.nan]))]\n",
    "\n",
    "metadata.head()"
   ]
  },
  {
   "cell_type": "code",
   "execution_count": 8,
   "metadata": {},
   "outputs": [
    {
     "output_type": "execute_result",
     "data": {
      "text/plain": "   ctry  station_name       stid\n1    AF    WXPOD 7026  007026nan\n2    AF    WXPOD 7070  007070nan\n4    AF     WXPOD8278  008268nan\n5    AF    WXPOD 8318  008307nan\n10   NO  BOGUS NORWAY  010000nan",
      "text/html": "<div>\n<style scoped>\n    .dataframe tbody tr th:only-of-type {\n        vertical-align: middle;\n    }\n\n    .dataframe tbody tr th {\n        vertical-align: top;\n    }\n\n    .dataframe thead th {\n        text-align: right;\n    }\n</style>\n<table border=\"1\" class=\"dataframe\">\n  <thead>\n    <tr style=\"text-align: right;\">\n      <th></th>\n      <th>ctry</th>\n      <th>station_name</th>\n      <th>stid</th>\n    </tr>\n  </thead>\n  <tbody>\n    <tr>\n      <th>1</th>\n      <td>AF</td>\n      <td>WXPOD 7026</td>\n      <td>007026nan</td>\n    </tr>\n    <tr>\n      <th>2</th>\n      <td>AF</td>\n      <td>WXPOD 7070</td>\n      <td>007070nan</td>\n    </tr>\n    <tr>\n      <th>4</th>\n      <td>AF</td>\n      <td>WXPOD8278</td>\n      <td>008268nan</td>\n    </tr>\n    <tr>\n      <th>5</th>\n      <td>AF</td>\n      <td>WXPOD 8318</td>\n      <td>008307nan</td>\n    </tr>\n    <tr>\n      <th>10</th>\n      <td>NO</td>\n      <td>BOGUS NORWAY</td>\n      <td>010000nan</td>\n    </tr>\n  </tbody>\n</table>\n</div>"
     },
     "metadata": {},
     "execution_count": 8
    }
   ],
   "source": [
    "# there is a quite amount of not unique stns and wbans thus we need to combine them to form one unique station id\n",
    "metadata[\"stid\"] = metadata.stn.apply(lambda x: str(x)) + metadata.wban.apply(lambda x: str(x)) \n",
    "metadata.drop([\"stn\", \"wban\"], axis=1, inplace=True)\n",
    "\n",
    "metadata.head()"
   ]
  },
  {
   "cell_type": "code",
   "execution_count": 9,
   "metadata": {
    "tags": []
   },
   "outputs": [
    {
     "output_type": "stream",
     "name": "stdout",
     "text": "<class 'pandas.core.frame.DataFrame'>\nInt64Index: 28781 entries, 1 to 29774\nData columns (total 3 columns):\n #   Column        Non-Null Count  Dtype \n---  ------        --------------  ----- \n 0   ctry          28781 non-null  object\n 1   station_name  28781 non-null  object\n 2   stid          28781 non-null  object\ndtypes: object(3)\nmemory usage: 899.4+ KB\n"
    }
   ],
   "source": [
    "metadata.info()"
   ]
  },
  {
   "cell_type": "code",
   "execution_count": 12,
   "metadata": {},
   "outputs": [],
   "source": [
    "# saving results for further use\n",
    "metadata.to_csv(\"../data/metadata.csv\", index=False)"
   ]
  },
  {
   "cell_type": "code",
   "execution_count": null,
   "metadata": {},
   "outputs": [],
   "source": []
  }
 ]
}